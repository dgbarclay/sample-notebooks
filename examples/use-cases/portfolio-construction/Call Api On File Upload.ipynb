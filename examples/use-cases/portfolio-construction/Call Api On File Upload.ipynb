{
 "cells": [
  {
   "cell_type": "code",
   "execution_count": null,
   "metadata": {},
   "outputs": [],
   "source": [
    "from lusidtools.jupyter_tools import toggle_code\n",
    "\n",
    "\"\"\"Call Api on File Upload\n",
    "\n",
    "Attributes\n",
    "----------\n",
    "subcriptions\n",
    "events\n",
    "notifications\n",
    "luminesce\n",
    "\"\"\"\n",
    "\n",
    "toggle_code(\"Toggle Docstring\")"
   ]
  },
  {
   "cell_type": "markdown",
   "metadata": {
    "collapsed": false
   },
   "source": [
    "# Call API on File Upload\n",
    "\n",
    "This notebook will detail how to create a process in which actions are triggered on the upload of a new file.\n",
    "\n",
    "For this example, we will manually drop an auto-load-transactions.xlsx file into drive, and this will trigger an api call which will run a Luminesce query to create a portfolio, create instruments and upsert the transactions into that portfolio. This is a very simple example, but it could be extended further by triggering a job which could contain references to any number of apis.\n",
    "\n",
    "The steps are as follows:\n",
    "1. Authorise LUSID account\n",
    "2. Create subscription to FileCreated event\n",
    "3. Create webhook notification to be triggered by subscription\n",
    "    - This notification will call an API\n",
    "4. Trigger the event"
   ]
  },
  {
   "cell_type": "markdown",
   "metadata": {
    "collapsed": false
   },
   "source": [
    "### Setup Lusid\n",
    "\n",
    "Import modules and define our api factories."
   ]
  },
  {
   "cell_type": "code",
   "execution_count": 4,
   "metadata": {
    "collapsed": false
   },
   "outputs": [],
   "source": [
    "import os\n",
    "import json\n",
    "\n",
    "# import lusid specific packages\n",
    "import lusid.models as models\n",
    "from fbnsdkutilities import ApiClientFactory\n",
    "from lusidjam import RefreshingToken\n",
    "import lusid_notifications as ln\n",
    "\n",
    "# Set the secrets path\n",
    "secrets_path = os.getenv(\"FBN_SECRETS_PATH\")\n",
    "api_url = os.getenv(\"FBN_LUSID_API_URL\")\n",
    "domain = api_url[:-3]\n",
    "\n",
    "# For running the notebook locally\n",
    "if secrets_path is None:\n",
    "    secrets_path = os.path.join(os.path.dirname(os.getcwd()), \"secrets.json\")\n",
    "\n",
    "notifications_factory = ApiClientFactory(\n",
    "    api_url=f\"https://{domain}notifications\",\n",
    "    token=RefreshingToken(),\n",
    "    api_secrets_filename=secrets_path,\n",
    "    sdk=ln,\n",
    ")"
   ]
  },
  {
   "cell_type": "code",
   "execution_count": null,
   "metadata": {},
   "outputs": [],
   "source": [
    "# notifications APIs\n",
    "subscriptions_api = notifications_factory.build(ln.api.SubscriptionsApi)\n",
    "notifications_api = notifications_factory.build(ln.api.NotificationsApi)\n",
    "events_api = notifications_factory.build(ln.api.EventsApi)\n",
    "event_types_api = notifications_factory.build(ln.api.EventTypesApi)"
   ]
  },
  {
   "cell_type": "markdown",
   "metadata": {
    "collapsed": false
   },
   "source": [
    "### 1. Authorise LUSID account\n",
    "\n",
    "To authorise your LUSID account, follow the instruction at [KA-01735](https://support.lusid.com/knowledgebase/article/KA-01735/)\n"
   ]
  },
  {
   "attachments": {},
   "cell_type": "markdown",
   "metadata": {
    "collapsed": false
   },
   "source": [
    "### 2. Create a subscription\n",
    "\n",
    "Here we are creating a subscription to a `FileCreated` event, with a matching filter set to look for our `auto-load-transactions.xlsx` file."
   ]
  },
  {
   "cell_type": "code",
   "execution_count": 5,
   "metadata": {
    "collapsed": false
   },
   "outputs": [
    {
     "name": "stdout",
     "output_type": "stream",
     "text": [
      "Subscription created for file_load.\n"
     ]
    },
    {
     "data": {
      "text/plain": [
       "{'created_at': datetime.datetime(2023, 2, 7, 10, 12, 27, 756852, tzinfo=tzutc()),\n",
       " 'created_by': '00uieujafoYdmkDSx2p7',\n",
       " 'description': 'file_load',\n",
       " 'display_name': 'file_load',\n",
       " 'id': {'code': 'file_load', 'scope': 'file_load'},\n",
       " 'last_modified_at': datetime.datetime(2023, 2, 7, 10, 12, 27, 756852, tzinfo=tzutc()),\n",
       " 'last_modified_by': '00uieujafoYdmkDSx2p7',\n",
       " 'matching_pattern': {'event_type': 'FileCreated',\n",
       "                      'filter': \"FileName eq 'auto-load-transactions.xlsx'\"},\n",
       " 'status': 'Active'}"
      ]
     },
     "execution_count": 5,
     "metadata": {},
     "output_type": "execute_result"
    }
   ],
   "source": [
    "# create subscription to file creation event\n",
    "def create_file_subscription(\n",
    "        scope: str,\n",
    "        code: str,\n",
    "        name: str,\n",
    "        matching_filter: str,\n",
    "        description: str = None\n",
    "):\n",
    "    try:\n",
    "        resp = subscriptions_api.create_subscription(\n",
    "            create_subscription=ln.models.CreateSubscription(\n",
    "                id=models.ResourceId(\n",
    "                    scope=scope,\n",
    "                    code=code\n",
    "                ),\n",
    "                display_name=name,\n",
    "                description=description if description else name,\n",
    "                status=\"Active\",\n",
    "                matching_pattern=ln.models.MatchingPattern(\n",
    "                    event_type=\"FileCreated\",\n",
    "                    filter=matching_filter\n",
    "                )\n",
    "            )\n",
    "        )\n",
    "        print(f\"Subscription created for {code}.\")\n",
    "        return resp\n",
    "    except ln.ApiException as e:\n",
    "        detail = json.loads(e.body)\n",
    "        if detail[\"code\"] != 711: # 'SubscriptionAlreadyExists'\n",
    "            raise e\n",
    "\n",
    "# check if this already exists and delete if it does\n",
    "subscriptions = subscriptions_api.list_subscriptions().values\n",
    "for subscription in subscriptions:\n",
    "    if subscription.id.code == \"file_load\" and subscription.id.scope == \"file_load\":\n",
    "        subscriptions_api.delete_subscription(\n",
    "            scope=\"file_load\",\n",
    "            code=\"file_load\"\n",
    "        )\n",
    "\n",
    "create_file_subscription(\n",
    "    scope=\"file_load\",\n",
    "    code=\"file_load\",\n",
    "    name=\"file_load\",\n",
    "    matching_filter=\"FileName eq 'auto-load-transactions.xlsx'\",\n",
    ")"
   ]
  },
  {
   "cell_type": "markdown",
   "metadata": {
    "collapsed": false
   },
   "source": [
    "### 3. Create a webhook notification\n",
    "\n",
    "First, define the SQL Luminesce query to run. This query will unpack our data file from the drive and then create a portfolio, instruments and transactions.\n"
   ]
  },
  {
   "cell_type": "code",
   "execution_count": 6,
   "metadata": {
    "collapsed": false
   },
   "outputs": [],
   "source": [
    "sql = \"\"\"\n",
    "-- Extract transaction data from LUSID Drive\n",
    "\n",
    "@txn_data =\n",
    "use Drive.Excel\n",
    "--file=/auto-load-transactions.xlsx\n",
    "enduse;\n",
    "\n",
    "-- Set variables for the portfolio's scope and code\n",
    "\n",
    "@@portfolio_scope = select 'auto-load-demo';\n",
    "@@portfolio_code = select 'uk-equity';\n",
    "@@portfolio_name = select 'UK EQUITY';\n",
    "\n",
    "-- Define the portfolio data\n",
    "\n",
    "@create_portfolio =\n",
    "select 'Transaction' as PortfolioType,\n",
    "@@portfolio_scope as PortfolioScope,\n",
    "@@portfolio_code as PortfolioCode,\n",
    "@@portfolio_name as DisplayName,\n",
    "'' as Description,\n",
    "#2000-01-01# as Created,\n",
    "''as SubHoldingKeys,\n",
    "'GBP' as BaseCurrency;\n",
    "\n",
    "-- Upload the portfolio into LUSID\n",
    "\n",
    "@response_create_portfolio =\n",
    "select *\n",
    "from Lusid.Portfolio.Writer\n",
    "where ToWrite = @create_portfolio;\n",
    "\n",
    "-- Get instrument data\n",
    "\n",
    "@equity_instruments =\n",
    "select\n",
    "Name as DisplayName,\n",
    "ISIN as Isin,\n",
    "ClientInternal as ClientInternal,\n",
    "SEDOL as Sedol,\n",
    "'GBP' as DomCcy\n",
    "from @txn_data;\n",
    "\n",
    "-- Upload the transformed data into LUSID\n",
    "\n",
    "@response = select *\n",
    "from Lusid.Instrument.Equity.Writer\n",
    "where ToWrite = @equity_instruments;\n",
    "\n",
    "-- --Transform data using SQL\n",
    "\n",
    "@transactions =\n",
    "select\n",
    "@@portfolio_scope as PortfolioScope,\n",
    "@@portfolio_code as PortfolioCode,\n",
    "t.TransactionID as TxnId,\n",
    "t.Type as Type,\n",
    "t.TransactionDate as TransactionDate,\n",
    "t.SettlementDate as SettlementDate,\n",
    "t.Units as Units,\n",
    "t.Price as TradePrice,\n",
    "t.TotalConsideration as TotalConsideration,\n",
    "t.Currency as SettlementCurrency,\n",
    "t.ClientInternal as ClientInternal,\n",
    "r.LusidInstrumentId as LusidInstrumentId\n",
    "from @txn_data t\n",
    "inner join @response r\n",
    "where t.ClientInternal = r.ClientInternal;\n",
    "\n",
    "-- Upload the transformed data into LUSID\n",
    "\n",
    "select *\n",
    "from Lusid.Portfolio.Txn.Writer\n",
    "where ToWrite = @transactions;\n",
    "\"\"\""
   ]
  },
  {
   "cell_type": "markdown",
   "metadata": {
    "collapsed": false
   },
   "source": [
    "Now, define the webhook notification to run our SQL query."
   ]
  },
  {
   "cell_type": "code",
   "execution_count": 7,
   "metadata": {
    "collapsed": false
   },
   "outputs": [
    {
     "data": {
      "text/plain": [
       "{'content': {'Content': '\\n'\n",
       "                        '-- Extract transaction data from LUSID Drive\\n'\n",
       "                        '\\n'\n",
       "                        '@txn_data =\\n'\n",
       "                        'use Drive.Excel\\n'\n",
       "                        '--file=/auto-load-transactions.xlsx\\n'\n",
       "                        'enduse;\\n'\n",
       "                        '\\n'\n",
       "                        \"-- Set variables for the portfolio's scope and code\\n\"\n",
       "                        '\\n'\n",
       "                        \"@@portfolio_scope = select 'auto-load-demo';\\n\"\n",
       "                        \"@@portfolio_code = select 'uk-equity';\\n\"\n",
       "                        \"@@portfolio_name = select 'UK EQUITY';\\n\"\n",
       "                        '\\n'\n",
       "                        '-- Define the portfolio data\\n'\n",
       "                        '\\n'\n",
       "                        '@create_portfolio =\\n'\n",
       "                        \"select 'Transaction' as PortfolioType,\\n\"\n",
       "                        '@@portfolio_scope as PortfolioScope,\\n'\n",
       "                        '@@portfolio_code as PortfolioCode,\\n'\n",
       "                        '@@portfolio_name as DisplayName,\\n'\n",
       "                        \"'' as Description,\\n\"\n",
       "                        '#2000-01-01# as Created,\\n'\n",
       "                        \"''as SubHoldingKeys,\\n\"\n",
       "                        \"'GBP' as BaseCurrency;\\n\"\n",
       "                        '\\n'\n",
       "                        '-- Upload the portfolio into LUSID\\n'\n",
       "                        '\\n'\n",
       "                        '@response_create_portfolio =\\n'\n",
       "                        'select *\\n'\n",
       "                        'from Lusid.Portfolio.Writer\\n'\n",
       "                        'where ToWrite = @create_portfolio;\\n'\n",
       "                        '\\n'\n",
       "                        '-- Get instrument data\\n'\n",
       "                        '\\n'\n",
       "                        '@equity_instruments =\\n'\n",
       "                        'select\\n'\n",
       "                        'Name as DisplayName,\\n'\n",
       "                        'ISIN as Isin,\\n'\n",
       "                        'ClientInternal as ClientInternal,\\n'\n",
       "                        'SEDOL as Sedol,\\n'\n",
       "                        \"'GBP' as DomCcy\\n\"\n",
       "                        'from @txn_data;\\n'\n",
       "                        '\\n'\n",
       "                        '-- Upload the transformed data into LUSID\\n'\n",
       "                        '\\n'\n",
       "                        '@response = select *\\n'\n",
       "                        'from Lusid.Instrument.Equity.Writer\\n'\n",
       "                        'where ToWrite = @equity_instruments;\\n'\n",
       "                        '\\n'\n",
       "                        '-- --Transform data using SQL\\n'\n",
       "                        '\\n'\n",
       "                        '@transactions =\\n'\n",
       "                        'select\\n'\n",
       "                        '@@portfolio_scope as PortfolioScope,\\n'\n",
       "                        '@@portfolio_code as PortfolioCode,\\n'\n",
       "                        't.TransactionID as TxnId,\\n'\n",
       "                        't.Type as Type,\\n'\n",
       "                        't.TransactionDate as TransactionDate,\\n'\n",
       "                        't.SettlementDate as SettlementDate,\\n'\n",
       "                        't.Units as Units,\\n'\n",
       "                        't.Price as TradePrice,\\n'\n",
       "                        't.TotalConsideration as TotalConsideration,\\n'\n",
       "                        't.Currency as SettlementCurrency,\\n'\n",
       "                        't.ClientInternal as ClientInternal,\\n'\n",
       "                        'r.LusidInstrumentId as LusidInstrumentId\\n'\n",
       "                        'from @txn_data t\\n'\n",
       "                        'inner join @response r\\n'\n",
       "                        'where t.ClientInternal = r.ClientInternal;\\n'\n",
       "                        '\\n'\n",
       "                        '-- Upload the transformed data into LUSID\\n'\n",
       "                        '\\n'\n",
       "                        'select *\\n'\n",
       "                        'from Lusid.Portfolio.Txn.Writer\\n'\n",
       "                        'where ToWrite = @transactions;\\n',\n",
       "             'ContentType': 'PlainText'},\n",
       " 'created_at': datetime.datetime(2023, 2, 7, 10, 12, 38, 339887, tzinfo=tzutc()),\n",
       " 'created_by': '00uieujafoYdmkDSx2p7',\n",
       " 'delivery_channel': 'Webhook',\n",
       " 'description': 'Upsert transaction into new portfolio',\n",
       " 'id': '8f07d33a-e20a-4d9e-bebf-d62950e1cd1f',\n",
       " 'last_modified_at': datetime.datetime(2023, 2, 7, 10, 12, 38, 339887, tzinfo=tzutc()),\n",
       " 'last_modified_by': '00uieujafoYdmkDSx2p7',\n",
       " 'recipients': {'AuthenticationConfigurationItemPaths': {},\n",
       "                'AuthenticationType': 'Lusid',\n",
       "                'Method': 'Put',\n",
       "                'Url': '/honeycomb/api/Sql/csv'},\n",
       " 'status': {'last_updated': datetime.datetime(2023, 2, 7, 10, 12, 38, 339887, tzinfo=tzutc()),\n",
       "            'result': 'Unprocessed'}}"
      ]
     },
     "execution_count": 7,
     "metadata": {},
     "output_type": "execute_result"
    }
   ],
   "source": [
    "def create_webhook_notification(\n",
    "        scope: str,\n",
    "        code: str,\n",
    "        sql: str,\n",
    "):\n",
    "    # this can be changed to call any api required\n",
    "    create_webhook_notification = {\n",
    "        \"description\": \"Upsert transaction into new portfolio\",\n",
    "        \"httpMethod\": \"Put\",\n",
    "        \"url\": \"/honeycomb/api/Sql/csv\",\n",
    "        \"authenticationType\": \"Lusid\",\n",
    "        \"contentType\": \"PlainText\",\n",
    "        \"content\": sql\n",
    "    }\n",
    "\n",
    "    try:\n",
    "        return notifications_api.create_webhook_notification(\n",
    "            scope=scope,\n",
    "            code=code,\n",
    "            create_webhook_notification=create_webhook_notification\n",
    "        )\n",
    "    except ln.ApiException as e:\n",
    "        return e.body\n",
    "\n",
    "# delete notifications to allow updates\n",
    "notifications = notifications_api.list_notifications(scope=\"file_load\", code=\"file_load\").values\n",
    "for notification in notifications:\n",
    "    notifications_api.delete_notification(\n",
    "        scope=\"file_load\",\n",
    "        code=\"file_load\",\n",
    "        id=notification.id\n",
    "    )\n",
    "\n",
    "create_webhook_notification(\n",
    "    scope=\"file_load\",  # scope and code of subscription\n",
    "    code=\"file_load\",\n",
    "    sql=sql\n",
    ")"
   ]
  },
  {
   "attachments": {},
   "cell_type": "markdown",
   "metadata": {
    "collapsed": false
   },
   "source": [
    "### 4. Trigger the event\n",
    "\n",
    "You can trigger the event by dropping the `auto-load-transactions.xlsx` file into drive. This file is located within the data folder. You can verify the process has been succesful by checking your portfolios for `uk-equity` within the `auto-load-demo` scope."
   ]
  }
 ],
 "metadata": {
  "kernelspec": {
   "display_name": "Python 3",
   "language": "python",
   "name": "python3"
  },
  "language_info": {
   "codemirror_mode": {
    "name": "ipython",
    "version": 2
   },
   "file_extension": ".py",
   "mimetype": "text/x-python",
   "name": "python",
   "nbconvert_exporter": "python",
   "pygments_lexer": "ipython2",
   "version": "2.7.6"
  }
 },
 "nbformat": 4,
 "nbformat_minor": 0
}
